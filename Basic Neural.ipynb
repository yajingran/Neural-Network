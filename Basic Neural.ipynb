{
 "cells": [
  {
   "cell_type": "code",
   "execution_count": 1,
   "metadata": {},
   "outputs": [
    {
     "name": "stderr",
     "output_type": "stream",
     "text": [
      "C:\\Users\\yajin\\anaconda3\\envs\\PythonData\\lib\\site-packages\\tensorflow\\python\\framework\\dtypes.py:516: FutureWarning: Passing (type, 1) or '1type' as a synonym of type is deprecated; in a future version of numpy, it will be understood as (type, (1,)) / '(1,)type'.\n",
      "  _np_qint8 = np.dtype([(\"qint8\", np.int8, 1)])\n",
      "C:\\Users\\yajin\\anaconda3\\envs\\PythonData\\lib\\site-packages\\tensorflow\\python\\framework\\dtypes.py:517: FutureWarning: Passing (type, 1) or '1type' as a synonym of type is deprecated; in a future version of numpy, it will be understood as (type, (1,)) / '(1,)type'.\n",
      "  _np_quint8 = np.dtype([(\"quint8\", np.uint8, 1)])\n",
      "C:\\Users\\yajin\\anaconda3\\envs\\PythonData\\lib\\site-packages\\tensorflow\\python\\framework\\dtypes.py:518: FutureWarning: Passing (type, 1) or '1type' as a synonym of type is deprecated; in a future version of numpy, it will be understood as (type, (1,)) / '(1,)type'.\n",
      "  _np_qint16 = np.dtype([(\"qint16\", np.int16, 1)])\n",
      "C:\\Users\\yajin\\anaconda3\\envs\\PythonData\\lib\\site-packages\\tensorflow\\python\\framework\\dtypes.py:519: FutureWarning: Passing (type, 1) or '1type' as a synonym of type is deprecated; in a future version of numpy, it will be understood as (type, (1,)) / '(1,)type'.\n",
      "  _np_quint16 = np.dtype([(\"quint16\", np.uint16, 1)])\n",
      "C:\\Users\\yajin\\anaconda3\\envs\\PythonData\\lib\\site-packages\\tensorflow\\python\\framework\\dtypes.py:520: FutureWarning: Passing (type, 1) or '1type' as a synonym of type is deprecated; in a future version of numpy, it will be understood as (type, (1,)) / '(1,)type'.\n",
      "  _np_qint32 = np.dtype([(\"qint32\", np.int32, 1)])\n",
      "C:\\Users\\yajin\\anaconda3\\envs\\PythonData\\lib\\site-packages\\tensorflow\\python\\framework\\dtypes.py:525: FutureWarning: Passing (type, 1) or '1type' as a synonym of type is deprecated; in a future version of numpy, it will be understood as (type, (1,)) / '(1,)type'.\n",
      "  np_resource = np.dtype([(\"resource\", np.ubyte, 1)])\n",
      "C:\\Users\\yajin\\anaconda3\\envs\\PythonData\\lib\\site-packages\\tensorboard\\compat\\tensorflow_stub\\dtypes.py:541: FutureWarning: Passing (type, 1) or '1type' as a synonym of type is deprecated; in a future version of numpy, it will be understood as (type, (1,)) / '(1,)type'.\n",
      "  _np_qint8 = np.dtype([(\"qint8\", np.int8, 1)])\n",
      "C:\\Users\\yajin\\anaconda3\\envs\\PythonData\\lib\\site-packages\\tensorboard\\compat\\tensorflow_stub\\dtypes.py:542: FutureWarning: Passing (type, 1) or '1type' as a synonym of type is deprecated; in a future version of numpy, it will be understood as (type, (1,)) / '(1,)type'.\n",
      "  _np_quint8 = np.dtype([(\"quint8\", np.uint8, 1)])\n",
      "C:\\Users\\yajin\\anaconda3\\envs\\PythonData\\lib\\site-packages\\tensorboard\\compat\\tensorflow_stub\\dtypes.py:543: FutureWarning: Passing (type, 1) or '1type' as a synonym of type is deprecated; in a future version of numpy, it will be understood as (type, (1,)) / '(1,)type'.\n",
      "  _np_qint16 = np.dtype([(\"qint16\", np.int16, 1)])\n",
      "C:\\Users\\yajin\\anaconda3\\envs\\PythonData\\lib\\site-packages\\tensorboard\\compat\\tensorflow_stub\\dtypes.py:544: FutureWarning: Passing (type, 1) or '1type' as a synonym of type is deprecated; in a future version of numpy, it will be understood as (type, (1,)) / '(1,)type'.\n",
      "  _np_quint16 = np.dtype([(\"quint16\", np.uint16, 1)])\n",
      "C:\\Users\\yajin\\anaconda3\\envs\\PythonData\\lib\\site-packages\\tensorboard\\compat\\tensorflow_stub\\dtypes.py:545: FutureWarning: Passing (type, 1) or '1type' as a synonym of type is deprecated; in a future version of numpy, it will be understood as (type, (1,)) / '(1,)type'.\n",
      "  _np_qint32 = np.dtype([(\"qint32\", np.int32, 1)])\n",
      "C:\\Users\\yajin\\anaconda3\\envs\\PythonData\\lib\\site-packages\\tensorboard\\compat\\tensorflow_stub\\dtypes.py:550: FutureWarning: Passing (type, 1) or '1type' as a synonym of type is deprecated; in a future version of numpy, it will be understood as (type, (1,)) / '(1,)type'.\n",
      "  np_resource = np.dtype([(\"resource\", np.ubyte, 1)])\n"
     ]
    }
   ],
   "source": [
    "# Import our dependencies\n",
    "import pandas as pd\n",
    "import matplotlib as plt\n",
    "from sklearn.datasets import make_blobs\n",
    "import sklearn as skl\n",
    "import tensorflow as tf"
   ]
  },
  {
   "cell_type": "code",
   "execution_count": 2,
   "metadata": {},
   "outputs": [
    {
     "data": {
      "text/plain": [
       "<matplotlib.axes._subplots.AxesSubplot at 0x1cd1f4dd108>"
      ]
     },
     "execution_count": 2,
     "metadata": {},
     "output_type": "execute_result"
    },
    {
     "data": {
      "image/png": "[encoded data removed]",
      "text/plain": [
       "<Figure size 432x288 with 2 Axes>"
      ]
     },
     "metadata": {
      "needs_background": "light"
     },
     "output_type": "display_data"
    }
   ],
   "source": [
    "# Generate dummy dataset\n",
    "X, y = make_blobs(n_samples=1000, centers=2, n_features=2, random_state=78)\n",
    "\n",
    "# Creating a DataFrame with the dummy data\n",
    "df = pd.DataFrame(X, columns=[\"Feature 1\", \"Feature 2\"])\n",
    "df[\"Target\"] = y\n",
    "\n",
    "# Plotting the dummy data\n",
    "df.plot.scatter(x=\"Feature 1\", y=\"Feature 2\", c=\"Target\", colormap=\"winter\")"
   ]
  },
  {
   "cell_type": "code",
   "execution_count": 3,
   "metadata": {},
   "outputs": [],
   "source": [
    "# Use sklearn to split dataset\n",
    "from sklearn.model_selection import train_test_split\n",
    "X_train, X_test, y_train, y_test = train_test_split(X, y, random_state=78)"
   ]
  },
  {
   "cell_type": "code",
   "execution_count": 4,
   "metadata": {},
   "outputs": [],
   "source": [
    "# Create scaler instance\n",
    "X_scaler = skl.preprocessing.StandardScaler()\n",
    "\n",
    "# Fit the scaler\n",
    "X_scaler.fit(X_train)\n",
    "\n",
    "# Scale the data\n",
    "X_train_scaled = X_scaler.transform(X_train)\n",
    "X_test_scaled = X_scaler.transform(X_test)"
   ]
  },
  {
   "cell_type": "code",
   "execution_count": 5,
   "metadata": {},
   "outputs": [],
   "source": [
    "# Create the Keras Sequential model\n",
    "nn_model = tf.keras.models.Sequential()"
   ]
  },
  {
   "cell_type": "code",
   "execution_count": 6,
   "metadata": {},
   "outputs": [
    {
     "name": "stdout",
     "output_type": "stream",
     "text": [
      "WARNING:tensorflow:From C:\\Users\\yajin\\anaconda3\\envs\\PythonData\\lib\\site-packages\\tensorflow\\python\\ops\\init_ops.py:1251: calling VarianceScaling.__init__ (from tensorflow.python.ops.init_ops) with dtype is deprecated and will be removed in a future version.\n",
      "Instructions for updating:\n",
      "Call initializer instance with the dtype argument instead of passing it to the constructor\n"
     ]
    }
   ],
   "source": [
    "# Add our first Dense layer, including the input layer\n",
    "nn_model.add(tf.keras.layers.Dense(units=1, activation=\"relu\", input_dim=2))"
   ]
  },
  {
   "cell_type": "code",
   "execution_count": 7,
   "metadata": {},
   "outputs": [],
   "source": [
    "# Add the output layer that uses a probability activation function\n",
    "nn_model.add(tf.keras.layers.Dense(units=1, activation=\"sigmoid\"))"
   ]
  },
  {
   "cell_type": "code",
   "execution_count": 8,
   "metadata": {},
   "outputs": [
    {
     "name": "stdout",
     "output_type": "stream",
     "text": [
      "Model: \"sequential\"\n",
      "_________________________________________________________________\n",
      "Layer (type)                 Output Shape              Param #   \n",
      "=================================================================\n",
      "dense (Dense)                (None, 1)                 3         \n",
      "_________________________________________________________________\n",
      "dense_1 (Dense)              (None, 1)                 2         \n",
      "=================================================================\n",
      "Total params: 5\n",
      "Trainable params: 5\n",
      "Non-trainable params: 0\n",
      "_________________________________________________________________\n"
     ]
    }
   ],
   "source": [
    "# Check the structure of the Sequential model\n",
    "nn_model.summary()"
   ]
  },
  {
   "cell_type": "code",
   "execution_count": 9,
   "metadata": {},
   "outputs": [
    {
     "name": "stdout",
     "output_type": "stream",
     "text": [
      "WARNING:tensorflow:From C:\\Users\\yajin\\anaconda3\\envs\\PythonData\\lib\\site-packages\\tensorflow\\python\\ops\\nn_impl.py:180: add_dispatch_support.<locals>.wrapper (from tensorflow.python.ops.array_ops) is deprecated and will be removed in a future version.\n",
      "Instructions for updating:\n",
      "Use tf.where in 2.0, which has the same broadcast rule as np.where\n"
     ]
    }
   ],
   "source": [
    "# Compile the Sequential model together and customize metrics\n",
    "nn_model.compile(loss=\"binary_crossentropy\", optimizer=\"adam\", metrics=[\"accuracy\"])"
   ]
  },
  {
   "cell_type": "code",
   "execution_count": 10,
   "metadata": {},
   "outputs": [
    {
     "name": "stdout",
     "output_type": "stream",
     "text": [
      "Epoch 1/100\n",
      "750/750 [==============================] - 0s 186us/sample - loss: 0.8382 - acc: 0.0187\n",
      "Epoch 2/100\n",
      "750/750 [==============================] - 0s 20us/sample - loss: 0.8183 - acc: 0.0000e+00\n",
      "Epoch 3/100\n",
      "750/750 [==============================] - 0s 21us/sample - loss: 0.8007 - acc: 0.0000e+00\n",
      "Epoch 4/100\n",
      "750/750 [==============================] - 0s 21us/sample - loss: 0.7852 - acc: 0.0000e+00\n",
      "Epoch 5/100\n",
      "750/750 [==============================] - 0s 21us/sample - loss: 0.7715 - acc: 0.0027\n",
      "Epoch 6/100\n",
      "750/750 [==============================] - 0s 21us/sample - loss: 0.7587 - acc: 0.0040\n",
      "Epoch 7/100\n",
      "750/750 [==============================] - 0s 21us/sample - loss: 0.7475 - acc: 0.0040\n",
      "Epoch 8/100\n",
      "750/750 [==============================] - 0s 21us/sample - loss: 0.7372 - acc: 0.0053\n",
      "Epoch 9/100\n",
      "750/750 [==============================] - 0s 21us/sample - loss: 0.7278 - acc: 0.0053\n",
      "Epoch 10/100\n",
      "750/750 [==============================] - 0s 21us/sample - loss: 0.7191 - acc: 0.0213\n",
      "Epoch 11/100\n",
      "750/750 [==============================] - 0s 21us/sample - loss: 0.7110 - acc: 0.0680\n",
      "Epoch 12/100\n",
      "750/750 [==============================] - 0s 21us/sample - loss: 0.7033 - acc: 0.2720\n",
      "Epoch 13/100\n",
      "750/750 [==============================] - 0s 20us/sample - loss: 0.6960 - acc: 0.4907\n",
      "Epoch 14/100\n",
      "750/750 [==============================] - 0s 21us/sample - loss: 0.6887 - acc: 0.4933\n",
      "Epoch 15/100\n",
      "750/750 [==============================] - 0s 20us/sample - loss: 0.6816 - acc: 0.4933\n",
      "Epoch 16/100\n",
      "750/750 [==============================] - 0s 20us/sample - loss: 0.6742 - acc: 0.4933\n",
      "Epoch 17/100\n",
      "750/750 [==============================] - 0s 23us/sample - loss: 0.6668 - acc: 0.4933\n",
      "Epoch 18/100\n",
      "750/750 [==============================] - 0s 27us/sample - loss: 0.6589 - acc: 0.4933\n",
      "Epoch 19/100\n",
      "750/750 [==============================] - 0s 21us/sample - loss: 0.6506 - acc: 0.6000\n",
      "Epoch 20/100\n",
      "750/750 [==============================] - 0s 20us/sample - loss: 0.6417 - acc: 1.0000\n",
      "Epoch 21/100\n",
      "750/750 [==============================] - 0s 24us/sample - loss: 0.6322 - acc: 1.0000\n",
      "Epoch 22/100\n",
      "750/750 [==============================] - 0s 21us/sample - loss: 0.6220 - acc: 1.0000\n",
      "Epoch 23/100\n",
      "750/750 [==============================] - 0s 21us/sample - loss: 0.6110 - acc: 1.0000\n",
      "Epoch 24/100\n",
      "750/750 [==============================] - 0s 21us/sample - loss: 0.5993 - acc: 1.0000\n",
      "Epoch 25/100\n",
      "750/750 [==============================] - 0s 21us/sample - loss: 0.5869 - acc: 1.0000\n",
      "Epoch 26/100\n",
      "750/750 [==============================] - 0s 21us/sample - loss: 0.5738 - acc: 1.0000\n",
      "Epoch 27/100\n",
      "750/750 [==============================] - 0s 20us/sample - loss: 0.5604 - acc: 1.0000\n",
      "Epoch 28/100\n",
      "750/750 [==============================] - 0s 23us/sample - loss: 0.5464 - acc: 1.0000\n",
      "Epoch 29/100\n",
      "750/750 [==============================] - 0s 28us/sample - loss: 0.5323 - acc: 1.0000\n",
      "Epoch 30/100\n",
      "750/750 [==============================] - 0s 23us/sample - loss: 0.5179 - acc: 1.0000\n",
      "Epoch 31/100\n",
      "750/750 [==============================] - 0s 21us/sample - loss: 0.5035 - acc: 1.0000\n",
      "Epoch 32/100\n",
      "750/750 [==============================] - 0s 21us/sample - loss: 0.4890 - acc: 1.0000\n",
      "Epoch 33/100\n",
      "750/750 [==============================] - 0s 21us/sample - loss: 0.4747 - acc: 1.0000\n",
      "Epoch 34/100\n",
      "750/750 [==============================] - 0s 20us/sample - loss: 0.4606 - acc: 1.0000\n",
      "Epoch 35/100\n",
      "750/750 [==============================] - 0s 23us/sample - loss: 0.4468 - acc: 1.0000\n",
      "Epoch 36/100\n",
      "750/750 [==============================] - 0s 21us/sample - loss: 0.4333 - acc: 1.0000\n",
      "Epoch 37/100\n",
      "750/750 [==============================] - 0s 23us/sample - loss: 0.4202 - acc: 1.0000\n",
      "Epoch 38/100\n",
      "750/750 [==============================] - 0s 24us/sample - loss: 0.4074 - acc: 1.0000\n",
      "Epoch 39/100\n",
      "750/750 [==============================] - 0s 23us/sample - loss: 0.3951 - acc: 1.0000\n",
      "Epoch 40/100\n",
      "750/750 [==============================] - 0s 23us/sample - loss: 0.3832 - acc: 1.0000\n",
      "Epoch 41/100\n",
      "750/750 [==============================] - 0s 21us/sample - loss: 0.3718 - acc: 1.0000\n",
      "Epoch 42/100\n",
      "750/750 [==============================] - 0s 21us/sample - loss: 0.3608 - acc: 1.0000\n",
      "Epoch 43/100\n",
      "750/750 [==============================] - 0s 25us/sample - loss: 0.3502 - acc: 1.0000\n",
      "Epoch 44/100\n",
      "750/750 [==============================] - 0s 24us/sample - loss: 0.3400 - acc: 1.0000\n",
      "Epoch 45/100\n",
      "750/750 [==============================] - 0s 23us/sample - loss: 0.3303 - acc: 1.0000\n",
      "Epoch 46/100\n",
      "750/750 [==============================] - 0s 21us/sample - loss: 0.3209 - acc: 1.0000\n",
      "Epoch 47/100\n",
      "750/750 [==============================] - 0s 21us/sample - loss: 0.3119 - acc: 1.0000\n",
      "Epoch 48/100\n",
      "750/750 [==============================] - 0s 22us/sample - loss: 0.3033 - acc: 1.0000\n",
      "Epoch 49/100\n",
      "750/750 [==============================] - 0s 21us/sample - loss: 0.2950 - acc: 1.0000\n",
      "Epoch 50/100\n",
      "750/750 [==============================] - 0s 20us/sample - loss: 0.2871 - acc: 1.0000\n",
      "Epoch 51/100\n",
      "750/750 [==============================] - 0s 21us/sample - loss: 0.2794 - acc: 1.0000\n",
      "Epoch 52/100\n",
      "750/750 [==============================] - 0s 21us/sample - loss: 0.2721 - acc: 1.0000\n",
      "Epoch 53/100\n",
      "750/750 [==============================] - 0s 23us/sample - loss: 0.2650 - acc: 1.0000\n",
      "Epoch 54/100\n",
      "750/750 [==============================] - 0s 21us/sample - loss: 0.2582 - acc: 1.0000\n",
      "Epoch 55/100\n",
      "750/750 [==============================] - 0s 21us/sample - loss: 0.2517 - acc: 1.0000\n",
      "Epoch 56/100\n",
      "750/750 [==============================] - 0s 21us/sample - loss: 0.2454 - acc: 1.0000\n",
      "Epoch 57/100\n",
      "750/750 [==============================] - 0s 23us/sample - loss: 0.2393 - acc: 1.0000\n",
      "Epoch 58/100\n",
      "750/750 [==============================] - 0s 21us/sample - loss: 0.2335 - acc: 1.0000\n",
      "Epoch 59/100\n",
      "750/750 [==============================] - 0s 23us/sample - loss: 0.2279 - acc: 1.0000\n",
      "Epoch 60/100\n",
      "750/750 [==============================] - 0s 24us/sample - loss: 0.2224 - acc: 1.0000\n",
      "Epoch 61/100\n",
      "750/750 [==============================] - 0s 23us/sample - loss: 0.2172 - acc: 1.0000\n",
      "Epoch 62/100\n",
      "750/750 [==============================] - 0s 23us/sample - loss: 0.2121 - acc: 1.0000\n",
      "Epoch 63/100\n",
      "750/750 [==============================] - 0s 23us/sample - loss: 0.2073 - acc: 1.0000\n",
      "Epoch 64/100\n",
      "750/750 [==============================] - 0s 23us/sample - loss: 0.2025 - acc: 1.0000\n",
      "Epoch 65/100\n",
      "750/750 [==============================] - 0s 23us/sample - loss: 0.1980 - acc: 1.0000\n",
      "Epoch 66/100\n",
      "750/750 [==============================] - 0s 21us/sample - loss: 0.1936 - acc: 1.0000\n",
      "Epoch 67/100\n",
      "750/750 [==============================] - 0s 21us/sample - loss: 0.1893 - acc: 1.0000\n",
      "Epoch 68/100\n",
      "750/750 [==============================] - 0s 21us/sample - loss: 0.1852 - acc: 1.0000\n",
      "Epoch 69/100\n",
      "750/750 [==============================] - 0s 24us/sample - loss: 0.1812 - acc: 1.0000\n",
      "Epoch 70/100\n",
      "750/750 [==============================] - 0s 23us/sample - loss: 0.1773 - acc: 1.0000\n",
      "Epoch 71/100\n",
      "750/750 [==============================] - 0s 23us/sample - loss: 0.1736 - acc: 1.0000\n",
      "Epoch 72/100\n",
      "750/750 [==============================] - 0s 25us/sample - loss: 0.1699 - acc: 1.0000\n",
      "Epoch 73/100\n",
      "750/750 [==============================] - 0s 27us/sample - loss: 0.1664 - acc: 1.0000\n",
      "Epoch 74/100\n",
      "750/750 [==============================] - 0s 23us/sample - loss: 0.1630 - acc: 1.0000\n",
      "Epoch 75/100\n",
      "750/750 [==============================] - 0s 23us/sample - loss: 0.1596 - acc: 1.0000\n",
      "Epoch 76/100\n",
      "750/750 [==============================] - 0s 23us/sample - loss: 0.1564 - acc: 1.0000\n",
      "Epoch 77/100\n",
      "750/750 [==============================] - 0s 23us/sample - loss: 0.1533 - acc: 1.0000\n",
      "Epoch 78/100\n",
      "750/750 [==============================] - 0s 21us/sample - loss: 0.1503 - acc: 1.0000\n",
      "Epoch 79/100\n",
      "750/750 [==============================] - 0s 21us/sample - loss: 0.1473 - acc: 1.0000\n",
      "Epoch 80/100\n",
      "750/750 [==============================] - 0s 23us/sample - loss: 0.1444 - acc: 1.0000\n",
      "Epoch 81/100\n",
      "750/750 [==============================] - 0s 23us/sample - loss: 0.1416 - acc: 1.0000\n",
      "Epoch 82/100\n"
     ]
    },
    {
     "name": "stdout",
     "output_type": "stream",
     "text": [
      "750/750 [==============================] - 0s 23us/sample - loss: 0.1389 - acc: 1.0000\n",
      "Epoch 83/100\n",
      "750/750 [==============================] - 0s 24us/sample - loss: 0.1363 - acc: 1.0000\n",
      "Epoch 84/100\n",
      "750/750 [==============================] - 0s 23us/sample - loss: 0.1337 - acc: 1.0000\n",
      "Epoch 85/100\n",
      "750/750 [==============================] - 0s 23us/sample - loss: 0.1312 - acc: 1.0000\n",
      "Epoch 86/100\n",
      "750/750 [==============================] - 0s 23us/sample - loss: 0.1287 - acc: 1.0000\n",
      "Epoch 87/100\n",
      "750/750 [==============================] - 0s 23us/sample - loss: 0.1264 - acc: 1.0000\n",
      "Epoch 88/100\n",
      "750/750 [==============================] - 0s 24us/sample - loss: 0.1240 - acc: 1.0000\n",
      "Epoch 89/100\n",
      "750/750 [==============================] - 0s 23us/sample - loss: 0.1218 - acc: 1.0000\n",
      "Epoch 90/100\n",
      "750/750 [==============================] - 0s 23us/sample - loss: 0.1196 - acc: 1.0000\n",
      "Epoch 91/100\n",
      "750/750 [==============================] - 0s 21us/sample - loss: 0.1174 - acc: 1.0000\n",
      "Epoch 92/100\n",
      "750/750 [==============================] - 0s 21us/sample - loss: 0.1153 - acc: 1.0000\n",
      "Epoch 93/100\n",
      "750/750 [==============================] - 0s 21us/sample - loss: 0.1133 - acc: 1.0000\n",
      "Epoch 94/100\n",
      "750/750 [==============================] - 0s 23us/sample - loss: 0.1113 - acc: 1.0000\n",
      "Epoch 95/100\n",
      "750/750 [==============================] - 0s 21us/sample - loss: 0.1093 - acc: 1.0000\n",
      "Epoch 96/100\n",
      "750/750 [==============================] - 0s 22us/sample - loss: 0.1075 - acc: 1.0000\n",
      "Epoch 97/100\n",
      "750/750 [==============================] - 0s 21us/sample - loss: 0.1056 - acc: 1.0000\n",
      "Epoch 98/100\n",
      "750/750 [==============================] - 0s 21us/sample - loss: 0.1038 - acc: 1.0000\n",
      "Epoch 99/100\n",
      "750/750 [==============================] - 0s 21us/sample - loss: 0.1020 - acc: 1.0000\n",
      "Epoch 100/100\n",
      "750/750 [==============================] - 0s 27us/sample - loss: 0.1003 - acc: 1.0000\n"
     ]
    }
   ],
   "source": [
    "# Fit the model to the training data\n",
    "fit_model = nn_model.fit(X_train_scaled, y_train, epochs=100)"
   ]
  },
  {
   "cell_type": "code",
   "execution_count": 11,
   "metadata": {},
   "outputs": [
    {
     "data": {
      "text/plain": [
       "<matplotlib.axes._subplots.AxesSubplot at 0x1cd21634ec8>"
      ]
     },
     "execution_count": 11,
     "metadata": {},
     "output_type": "execute_result"
    },
    {
     "data": {
      "image/png": "[encoded data removed]",
      "text/plain": [
       "<Figure size 432x288 with 1 Axes>"
      ]
     },
     "metadata": {
      "needs_background": "light"
     },
     "output_type": "display_data"
    }
   ],
   "source": [
    "# Create a DataFrame containing training history\n",
    "history_df = pd.DataFrame(fit_model.history, index=range(1,len(fit_model.history[\"loss\"])+1))\n",
    "\n",
    "# Plot the loss\n",
    "history_df.plot(y=\"loss\")"
   ]
  },
  {
   "cell_type": "code",
   "execution_count": 12,
   "metadata": {},
   "outputs": [
    {
     "data": {
      "text/plain": [
       "<matplotlib.axes._subplots.AxesSubplot at 0x1cd216a4748>"
      ]
     },
     "execution_count": 12,
     "metadata": {},
     "output_type": "execute_result"
    },
    {
     "data": {
      "image/png": "[encoded data removed]",
      "text/plain": [
       "<Figure size 432x288 with 1 Axes>"
      ]
     },
     "metadata": {
      "needs_background": "light"
     },
     "output_type": "display_data"
    }
   ],
   "source": [
    "# Plot the accuracy\n",
    "# Plot the accuracy\n",
    "history_df.plot(y=\"acc\")"
   ]
  },
  {
   "cell_type": "code",
   "execution_count": 13,
   "metadata": {},
   "outputs": [
    {
     "name": "stdout",
     "output_type": "stream",
     "text": [
      "250/250 - 0s - loss: 0.0935 - acc: 1.0000\n",
      "Loss: 0.0934706734418869, Accuracy: 1.0\n"
     ]
    }
   ],
   "source": [
    "# Evaluate the model using the test data\n",
    "model_loss, model_accuracy = nn_model.evaluate(X_test_scaled,y_test,verbose=2)\n",
    "print(f\"Loss: {model_loss}, Accuracy: {model_accuracy}\")"
   ]
  },
  {
   "cell_type": "code",
   "execution_count": 14,
   "metadata": {},
   "outputs": [
    {
     "data": {
      "text/plain": [
       "array([[0],\n",
       "       [1],\n",
       "       [0],\n",
       "       [1],\n",
       "       [0],\n",
       "       [0],\n",
       "       [1],\n",
       "       [1],\n",
       "       [1],\n",
       "       [0]])"
      ]
     },
     "execution_count": 14,
     "metadata": {},
     "output_type": "execute_result"
    }
   ],
   "source": [
    "# Predict the classification of a new set of blob data\n",
    "new_X, new_Y = make_blobs(n_samples=10, centers=2, n_features=2, random_state=78)\n",
    "new_X_scaled = X_scaler.transform(new_X)\n",
    "nn_model.predict_classes(new_X_scaled)"
   ]
  },
  {
   "cell_type": "code",
   "execution_count": 15,
   "metadata": {},
   "outputs": [
    {
     "data": {
      "text/plain": [
       "<matplotlib.axes._subplots.AxesSubplot at 0x1cd2174f288>"
      ]
     },
     "execution_count": 15,
     "metadata": {},
     "output_type": "execute_result"
    },
    {
     "data": {
      "image/png": "[encoded data removed]",
      "text/plain": [
       "<Figure size 432x288 with 2 Axes>"
      ]
     },
     "metadata": {
      "needs_background": "light"
     },
     "output_type": "display_data"
    }
   ],
   "source": [
    "from sklearn.datasets import make_moons\n",
    "\n",
    "# Creating dummy nonlinear data\n",
    "X_moons, y_moons = make_moons(n_samples=1000, noise=0.08, random_state=78)\n",
    "\n",
    "# Transforming y_moons to a vertical vector\n",
    "y_moons = y_moons.reshape(-1, 1)\n",
    "\n",
    "# Creating a DataFrame to plot the nonlinear dummy data\n",
    "df_moons = pd.DataFrame(X_moons, columns=[\"Feature 1\", \"Feature 2\"])\n",
    "df_moons[\"Target\"] = y_moons\n",
    "\n",
    "# Plot the nonlinear dummy data\n",
    "df_moons.plot.scatter(x=\"Feature 1\",y=\"Feature 2\", c=\"Target\",colormap=\"winter\")"
   ]
  },
  {
   "cell_type": "code",
   "execution_count": 16,
   "metadata": {},
   "outputs": [],
   "source": [
    "# Create training and testing sets\n",
    "X_moon_train, X_moon_test, y_moon_train, y_moon_test = train_test_split(\n",
    "    X_moons, y_moons, random_state=78\n",
    ")\n",
    "\n",
    "# Create the scaler instance\n",
    "X_moon_scaler = skl.preprocessing.StandardScaler()\n",
    "\n",
    "# Fit the scaler\n",
    "X_moon_scaler.fit(X_moon_train)\n",
    "\n",
    "# Scale the data\n",
    "X_moon_train_scaled = X_moon_scaler.transform(X_moon_train)\n",
    "X_moon_test_scaled = X_moon_scaler.transform(X_moon_test)"
   ]
  },
  {
   "cell_type": "code",
   "execution_count": 17,
   "metadata": {},
   "outputs": [
    {
     "name": "stdout",
     "output_type": "stream",
     "text": [
      "Epoch 1/100\n",
      "750/750 [==============================] - 0s 24us/sample - loss: 1.0694 - acc: 0.4387\n",
      "Epoch 2/100\n",
      "750/750 [==============================] - 0s 23us/sample - loss: 0.9766 - acc: 0.4547\n",
      "Epoch 3/100\n",
      "750/750 [==============================] - 0s 21us/sample - loss: 0.9101 - acc: 0.4760\n",
      "Epoch 4/100\n",
      "750/750 [==============================] - 0s 23us/sample - loss: 0.8640 - acc: 0.4853\n",
      "Epoch 5/100\n",
      "750/750 [==============================] - 0s 23us/sample - loss: 0.8290 - acc: 0.5000\n",
      "Epoch 6/100\n",
      "750/750 [==============================] - 0s 21us/sample - loss: 0.8023 - acc: 0.5173\n",
      "Epoch 7/100\n",
      "750/750 [==============================] - 0s 21us/sample - loss: 0.7803 - acc: 0.5280\n",
      "Epoch 8/100\n",
      "750/750 [==============================] - 0s 23us/sample - loss: 0.7629 - acc: 0.5400\n",
      "Epoch 9/100\n",
      "750/750 [==============================] - 0s 29us/sample - loss: 0.7480 - acc: 0.5493\n",
      "Epoch 10/100\n",
      "750/750 [==============================] - 0s 23us/sample - loss: 0.7348 - acc: 0.5573\n",
      "Epoch 11/100\n",
      "750/750 [==============================] - 0s 25us/sample - loss: 0.7234 - acc: 0.5627\n",
      "Epoch 12/100\n",
      "750/750 [==============================] - 0s 21us/sample - loss: 0.7126 - acc: 0.5720\n",
      "Epoch 13/100\n",
      "750/750 [==============================] - 0s 23us/sample - loss: 0.7028 - acc: 0.5800\n",
      "Epoch 14/100\n",
      "750/750 [==============================] - 0s 23us/sample - loss: 0.6938 - acc: 0.5880\n",
      "Epoch 15/100\n",
      "750/750 [==============================] - 0s 23us/sample - loss: 0.6854 - acc: 0.5947\n",
      "Epoch 16/100\n",
      "750/750 [==============================] - 0s 23us/sample - loss: 0.6777 - acc: 0.6013\n",
      "Epoch 17/100\n",
      "750/750 [==============================] - 0s 21us/sample - loss: 0.6706 - acc: 0.6107\n",
      "Epoch 18/100\n",
      "750/750 [==============================] - 0s 23us/sample - loss: 0.6638 - acc: 0.6187\n",
      "Epoch 19/100\n",
      "750/750 [==============================] - 0s 23us/sample - loss: 0.6576 - acc: 0.6200\n",
      "Epoch 20/100\n",
      "750/750 [==============================] - 0s 21us/sample - loss: 0.6516 - acc: 0.6240\n",
      "Epoch 21/100\n",
      "750/750 [==============================] - 0s 24us/sample - loss: 0.6460 - acc: 0.6213\n",
      "Epoch 22/100\n",
      "750/750 [==============================] - 0s 23us/sample - loss: 0.6407 - acc: 0.6227\n",
      "Epoch 23/100\n",
      "750/750 [==============================] - 0s 23us/sample - loss: 0.6357 - acc: 0.6240\n",
      "Epoch 24/100\n",
      "750/750 [==============================] - 0s 23us/sample - loss: 0.6307 - acc: 0.6293\n",
      "Epoch 25/100\n",
      "750/750 [==============================] - 0s 21us/sample - loss: 0.6260 - acc: 0.6333\n",
      "Epoch 26/100\n",
      "750/750 [==============================] - 0s 20us/sample - loss: 0.6215 - acc: 0.6360\n",
      "Epoch 27/100\n",
      "750/750 [==============================] - 0s 21us/sample - loss: 0.6172 - acc: 0.6373\n",
      "Epoch 28/100\n",
      "750/750 [==============================] - 0s 20us/sample - loss: 0.6129 - acc: 0.6453\n",
      "Epoch 29/100\n",
      "750/750 [==============================] - 0s 21us/sample - loss: 0.6091 - acc: 0.6480\n",
      "Epoch 30/100\n",
      "750/750 [==============================] - 0s 21us/sample - loss: 0.6051 - acc: 0.6493\n",
      "Epoch 31/100\n",
      "750/750 [==============================] - 0s 24us/sample - loss: 0.6014 - acc: 0.6533\n",
      "Epoch 32/100\n",
      "750/750 [==============================] - 0s 21us/sample - loss: 0.5977 - acc: 0.6547\n",
      "Epoch 33/100\n",
      "750/750 [==============================] - 0s 20us/sample - loss: 0.5943 - acc: 0.6547\n",
      "Epoch 34/100\n",
      "750/750 [==============================] - 0s 20us/sample - loss: 0.5909 - acc: 0.6573\n",
      "Epoch 35/100\n",
      "750/750 [==============================] - 0s 28us/sample - loss: 0.5877 - acc: 0.6600\n",
      "Epoch 36/100\n",
      "750/750 [==============================] - 0s 25us/sample - loss: 0.5846 - acc: 0.6600\n",
      "Epoch 37/100\n",
      "750/750 [==============================] - 0s 23us/sample - loss: 0.5814 - acc: 0.6613\n",
      "Epoch 38/100\n",
      "750/750 [==============================] - 0s 21us/sample - loss: 0.5784 - acc: 0.6627\n",
      "Epoch 39/100\n",
      "750/750 [==============================] - 0s 20us/sample - loss: 0.5753 - acc: 0.6627\n",
      "Epoch 40/100\n",
      "750/750 [==============================] - 0s 21us/sample - loss: 0.5724 - acc: 0.6640\n",
      "Epoch 41/100\n",
      "750/750 [==============================] - 0s 21us/sample - loss: 0.5697 - acc: 0.6653\n",
      "Epoch 42/100\n",
      "750/750 [==============================] - 0s 20us/sample - loss: 0.5670 - acc: 0.6693\n",
      "Epoch 43/100\n",
      "750/750 [==============================] - 0s 20us/sample - loss: 0.5644 - acc: 0.6707\n",
      "Epoch 44/100\n",
      "750/750 [==============================] - 0s 20us/sample - loss: 0.5618 - acc: 0.6707\n",
      "Epoch 45/100\n",
      "750/750 [==============================] - 0s 21us/sample - loss: 0.5593 - acc: 0.6720\n",
      "Epoch 46/100\n",
      "750/750 [==============================] - 0s 21us/sample - loss: 0.5568 - acc: 0.6747\n",
      "Epoch 47/100\n",
      "750/750 [==============================] - 0s 21us/sample - loss: 0.5544 - acc: 0.6787\n",
      "Epoch 48/100\n",
      "750/750 [==============================] - 0s 25us/sample - loss: 0.5521 - acc: 0.6813\n",
      "Epoch 49/100\n",
      "750/750 [==============================] - 0s 21us/sample - loss: 0.5499 - acc: 0.6827\n",
      "Epoch 50/100\n",
      "750/750 [==============================] - 0s 21us/sample - loss: 0.5477 - acc: 0.6827\n",
      "Epoch 51/100\n",
      "750/750 [==============================] - 0s 21us/sample - loss: 0.5455 - acc: 0.6827\n",
      "Epoch 52/100\n",
      "750/750 [==============================] - 0s 24us/sample - loss: 0.5434 - acc: 0.6867\n",
      "Epoch 53/100\n",
      "750/750 [==============================] - 0s 23us/sample - loss: 0.5411 - acc: 0.6907\n",
      "Epoch 54/100\n",
      "750/750 [==============================] - 0s 21us/sample - loss: 0.5390 - acc: 0.6933\n",
      "Epoch 55/100\n",
      "750/750 [==============================] - 0s 21us/sample - loss: 0.5368 - acc: 0.6933\n",
      "Epoch 56/100\n",
      "750/750 [==============================] - 0s 21us/sample - loss: 0.5348 - acc: 0.6947\n",
      "Epoch 57/100\n",
      "750/750 [==============================] - 0s 23us/sample - loss: 0.5329 - acc: 0.6973\n",
      "Epoch 58/100\n",
      "750/750 [==============================] - 0s 21us/sample - loss: 0.5309 - acc: 0.6973\n",
      "Epoch 59/100\n",
      "750/750 [==============================] - 0s 21us/sample - loss: 0.5290 - acc: 0.6973\n",
      "Epoch 60/100\n",
      "750/750 [==============================] - 0s 21us/sample - loss: 0.5271 - acc: 0.7013\n",
      "Epoch 61/100\n",
      "750/750 [==============================] - 0s 21us/sample - loss: 0.5251 - acc: 0.7040\n",
      "Epoch 62/100\n",
      "750/750 [==============================] - 0s 21us/sample - loss: 0.5232 - acc: 0.7067\n",
      "Epoch 63/100\n",
      "750/750 [==============================] - 0s 20us/sample - loss: 0.5213 - acc: 0.7093\n",
      "Epoch 64/100\n",
      "750/750 [==============================] - 0s 21us/sample - loss: 0.5194 - acc: 0.7093\n",
      "Epoch 65/100\n",
      "750/750 [==============================] - 0s 21us/sample - loss: 0.5174 - acc: 0.7147\n",
      "Epoch 66/100\n",
      "750/750 [==============================] - 0s 23us/sample - loss: 0.5155 - acc: 0.7173\n",
      "Epoch 67/100\n",
      "750/750 [==============================] - 0s 21us/sample - loss: 0.5137 - acc: 0.7200\n",
      "Epoch 68/100\n",
      "750/750 [==============================] - 0s 39us/sample - loss: 0.5118 - acc: 0.7200\n",
      "Epoch 69/100\n",
      "750/750 [==============================] - 0s 24us/sample - loss: 0.5099 - acc: 0.7200\n",
      "Epoch 70/100\n",
      "750/750 [==============================] - 0s 21us/sample - loss: 0.5081 - acc: 0.7200\n",
      "Epoch 71/100\n",
      "750/750 [==============================] - 0s 21us/sample - loss: 0.5062 - acc: 0.7213\n",
      "Epoch 72/100\n",
      "750/750 [==============================] - 0s 21us/sample - loss: 0.5045 - acc: 0.7227\n",
      "Epoch 73/100\n",
      "750/750 [==============================] - 0s 20us/sample - loss: 0.5026 - acc: 0.7227\n",
      "Epoch 74/100\n",
      "750/750 [==============================] - 0s 20us/sample - loss: 0.5007 - acc: 0.7240\n",
      "Epoch 75/100\n",
      "750/750 [==============================] - 0s 23us/sample - loss: 0.4989 - acc: 0.7240\n",
      "Epoch 76/100\n",
      "750/750 [==============================] - 0s 21us/sample - loss: 0.4970 - acc: 0.7253\n",
      "Epoch 77/100\n",
      "750/750 [==============================] - 0s 24us/sample - loss: 0.4951 - acc: 0.7280\n",
      "Epoch 78/100\n",
      "750/750 [==============================] - 0s 23us/sample - loss: 0.4932 - acc: 0.7320\n",
      "Epoch 79/100\n",
      "750/750 [==============================] - 0s 28us/sample - loss: 0.4912 - acc: 0.7320\n",
      "Epoch 80/100\n",
      "750/750 [==============================] - 0s 25us/sample - loss: 0.4893 - acc: 0.7333\n",
      "Epoch 81/100\n",
      "750/750 [==============================] - 0s 21us/sample - loss: 0.4872 - acc: 0.7373\n",
      "Epoch 82/100\n",
      "750/750 [==============================] - 0s 23us/sample - loss: 0.4852 - acc: 0.7387\n",
      "Epoch 83/100\n"
     ]
    },
    {
     "name": "stdout",
     "output_type": "stream",
     "text": [
      "750/750 [==============================] - 0s 21us/sample - loss: 0.4832 - acc: 0.7387\n",
      "Epoch 84/100\n",
      "750/750 [==============================] - 0s 21us/sample - loss: 0.4812 - acc: 0.7413\n",
      "Epoch 85/100\n",
      "750/750 [==============================] - 0s 21us/sample - loss: 0.4793 - acc: 0.7440\n",
      "Epoch 86/100\n",
      "750/750 [==============================] - 0s 23us/sample - loss: 0.4772 - acc: 0.7467\n",
      "Epoch 87/100\n",
      "750/750 [==============================] - 0s 25us/sample - loss: 0.4753 - acc: 0.7467\n",
      "Epoch 88/100\n",
      "750/750 [==============================] - 0s 28us/sample - loss: 0.4732 - acc: 0.7493\n",
      "Epoch 89/100\n",
      "750/750 [==============================] - 0s 28us/sample - loss: 0.4712 - acc: 0.7493\n",
      "Epoch 90/100\n",
      "750/750 [==============================] - 0s 25us/sample - loss: 0.4690 - acc: 0.7533\n",
      "Epoch 91/100\n",
      "750/750 [==============================] - 0s 27us/sample - loss: 0.4670 - acc: 0.7533\n",
      "Epoch 92/100\n",
      "750/750 [==============================] - 0s 35us/sample - loss: 0.4649 - acc: 0.7547\n",
      "Epoch 93/100\n",
      "750/750 [==============================] - 0s 35us/sample - loss: 0.4627 - acc: 0.7547\n",
      "Epoch 94/100\n",
      "750/750 [==============================] - 0s 25us/sample - loss: 0.4604 - acc: 0.7600\n",
      "Epoch 95/100\n",
      "750/750 [==============================] - 0s 25us/sample - loss: 0.4582 - acc: 0.7613\n",
      "Epoch 96/100\n",
      "750/750 [==============================] - 0s 27us/sample - loss: 0.4559 - acc: 0.7640\n",
      "Epoch 97/100\n",
      "750/750 [==============================] - 0s 27us/sample - loss: 0.4536 - acc: 0.7653\n",
      "Epoch 98/100\n",
      "750/750 [==============================] - 0s 35us/sample - loss: 0.4514 - acc: 0.7667\n",
      "Epoch 99/100\n",
      "750/750 [==============================] - 0s 43us/sample - loss: 0.4491 - acc: 0.7720\n",
      "Epoch 100/100\n",
      "750/750 [==============================] - 0s 31us/sample - loss: 0.4467 - acc: 0.7733\n"
     ]
    }
   ],
   "source": [
    "# Training the model with the nonlinear data\n",
    "model_moon = nn_model.fit(X_moon_train_scaled, y_moon_train, epochs=100, shuffle=True)"
   ]
  },
  {
   "cell_type": "code",
   "execution_count": 18,
   "metadata": {},
   "outputs": [
    {
     "data": {
      "text/plain": [
       "<matplotlib.axes._subplots.AxesSubplot at 0x1cd227cf248>"
      ]
     },
     "execution_count": 18,
     "metadata": {},
     "output_type": "execute_result"
    },
    {
     "data": {
      "image/png": "[encoded data removed]",
      "text/plain": [
       "<Figure size 432x288 with 1 Axes>"
      ]
     },
     "metadata": {
      "needs_background": "light"
     },
     "output_type": "display_data"
    }
   ],
   "source": [
    "# Create a DataFrame containing training history\n",
    "history_df = pd.DataFrame(model_moon.history, index=range(1,len(model_moon.history[\"loss\"])+1))\n",
    "\n",
    "# Plot the loss\n",
    "history_df.plot(y=\"loss\")"
   ]
  },
  {
   "cell_type": "code",
   "execution_count": 19,
   "metadata": {},
   "outputs": [
    {
     "data": {
      "text/plain": [
       "<matplotlib.axes._subplots.AxesSubplot at 0x1cd227e5488>"
      ]
     },
     "execution_count": 19,
     "metadata": {},
     "output_type": "execute_result"
    },
    {
     "data": {
      "image/png": "[encoded data removed]",
      "text/plain": [
       "<Figure size 432x288 with 1 Axes>"
      ]
     },
     "metadata": {
      "needs_background": "light"
     },
     "output_type": "display_data"
    }
   ],
   "source": [
    "# Plot the loss\n",
    "history_df.plot(y=\"acc\")"
   ]
  },
  {
   "cell_type": "code",
   "execution_count": 20,
   "metadata": {},
   "outputs": [],
   "source": [
    "# Generate our new Sequential model\n",
    "new_model = tf.keras.models.Sequential()"
   ]
  },
  {
   "cell_type": "code",
   "execution_count": 21,
   "metadata": {},
   "outputs": [],
   "source": [
    "# Add the input and hidden layer\n",
    "number_inputs = 2\n",
    "number_hidden_nodes = 6\n",
    "\n",
    "new_model.add(tf.keras.layers.Dense(units=number_hidden_nodes, activation=\"relu\", input_dim=number_inputs))\n",
    "\n",
    "# Add the output layer that uses a probability activation function\n",
    "new_model.add(tf.keras.layers.Dense(units=1, activation=\"sigmoid\"))"
   ]
  },
  {
   "cell_type": "code",
   "execution_count": 22,
   "metadata": {},
   "outputs": [
    {
     "name": "stdout",
     "output_type": "stream",
     "text": [
      "Epoch 1/100\n",
      "750/750 [==============================] - 0s 128us/sample - loss: 0.7789 - acc: 0.2960\n",
      "Epoch 2/100\n",
      "750/750 [==============================] - 0s 27us/sample - loss: 0.7442 - acc: 0.3693\n",
      "Epoch 3/100\n",
      "750/750 [==============================] - 0s 31us/sample - loss: 0.7135 - acc: 0.4573\n",
      "Epoch 4/100\n",
      "750/750 [==============================] - 0s 32us/sample - loss: 0.6862 - acc: 0.5080\n",
      "Epoch 5/100\n",
      "750/750 [==============================] - 0s 33us/sample - loss: 0.6609 - acc: 0.5520\n",
      "Epoch 6/100\n",
      "750/750 [==============================] - 0s 31us/sample - loss: 0.6364 - acc: 0.5733\n",
      "Epoch 7/100\n",
      "750/750 [==============================] - 0s 32us/sample - loss: 0.6118 - acc: 0.6120\n",
      "Epoch 8/100\n",
      "750/750 [==============================] - 0s 26us/sample - loss: 0.5870 - acc: 0.6907\n",
      "Epoch 9/100\n",
      "750/750 [==============================] - 0s 31us/sample - loss: 0.5619 - acc: 0.8107\n",
      "Epoch 10/100\n",
      "750/750 [==============================] - 0s 33us/sample - loss: 0.5360 - acc: 0.8493\n",
      "Epoch 11/100\n",
      "750/750 [==============================] - 0s 33us/sample - loss: 0.5108 - acc: 0.8533\n",
      "Epoch 12/100\n",
      "750/750 [==============================] - 0s 29us/sample - loss: 0.4860 - acc: 0.8613\n",
      "Epoch 13/100\n",
      "750/750 [==============================] - 0s 37us/sample - loss: 0.4621 - acc: 0.8640\n",
      "Epoch 14/100\n",
      "750/750 [==============================] - 0s 36us/sample - loss: 0.4396 - acc: 0.8640\n",
      "Epoch 15/100\n",
      "750/750 [==============================] - 0s 31us/sample - loss: 0.4190 - acc: 0.8627\n",
      "Epoch 16/100\n",
      "750/750 [==============================] - 0s 32us/sample - loss: 0.3999 - acc: 0.8613\n",
      "Epoch 17/100\n",
      "750/750 [==============================] - 0s 31us/sample - loss: 0.3832 - acc: 0.8600\n",
      "Epoch 18/100\n",
      "750/750 [==============================] - 0s 33us/sample - loss: 0.3683 - acc: 0.8587\n",
      "Epoch 19/100\n",
      "750/750 [==============================] - 0s 29us/sample - loss: 0.3553 - acc: 0.8587\n",
      "Epoch 20/100\n",
      "750/750 [==============================] - 0s 33us/sample - loss: 0.3438 - acc: 0.8587\n",
      "Epoch 21/100\n",
      "750/750 [==============================] - 0s 35us/sample - loss: 0.3339 - acc: 0.8587\n",
      "Epoch 22/100\n",
      "750/750 [==============================] - 0s 28us/sample - loss: 0.3253 - acc: 0.8600\n",
      "Epoch 23/100\n",
      "750/750 [==============================] - 0s 36us/sample - loss: 0.3178 - acc: 0.8613\n",
      "Epoch 24/100\n",
      "750/750 [==============================] - 0s 31us/sample - loss: 0.3109 - acc: 0.8627\n",
      "Epoch 25/100\n",
      "750/750 [==============================] - 0s 35us/sample - loss: 0.3052 - acc: 0.8653\n",
      "Epoch 26/100\n",
      "750/750 [==============================] - 0s 28us/sample - loss: 0.2998 - acc: 0.8693\n",
      "Epoch 27/100\n",
      "750/750 [==============================] - 0s 31us/sample - loss: 0.2951 - acc: 0.8707\n",
      "Epoch 28/100\n",
      "750/750 [==============================] - 0s 32us/sample - loss: 0.2909 - acc: 0.8720\n",
      "Epoch 29/100\n",
      "750/750 [==============================] - 0s 48us/sample - loss: 0.2869 - acc: 0.8760\n",
      "Epoch 30/100\n",
      "750/750 [==============================] - 0s 29us/sample - loss: 0.2836 - acc: 0.8760\n",
      "Epoch 31/100\n",
      "750/750 [==============================] - 0s 33us/sample - loss: 0.2803 - acc: 0.8787\n",
      "Epoch 32/100\n",
      "750/750 [==============================] - 0s 27us/sample - loss: 0.2772 - acc: 0.8813\n",
      "Epoch 33/100\n",
      "750/750 [==============================] - 0s 33us/sample - loss: 0.2746 - acc: 0.8827\n",
      "Epoch 34/100\n",
      "750/750 [==============================] - 0s 30us/sample - loss: 0.2720 - acc: 0.8840\n",
      "Epoch 35/100\n",
      "750/750 [==============================] - 0s 33us/sample - loss: 0.2696 - acc: 0.8840\n",
      "Epoch 36/100\n",
      "750/750 [==============================] - 0s 32us/sample - loss: 0.2675 - acc: 0.8840\n",
      "Epoch 37/100\n",
      "750/750 [==============================] - 0s 37us/sample - loss: 0.2653 - acc: 0.8853\n",
      "Epoch 38/100\n",
      "750/750 [==============================] - 0s 36us/sample - loss: 0.2634 - acc: 0.8867\n",
      "Epoch 39/100\n",
      "750/750 [==============================] - 0s 31us/sample - loss: 0.2616 - acc: 0.8880\n",
      "Epoch 40/100\n",
      "750/750 [==============================] - 0s 35us/sample - loss: 0.2599 - acc: 0.8880\n",
      "Epoch 41/100\n",
      "750/750 [==============================] - 0s 29us/sample - loss: 0.2584 - acc: 0.8893\n",
      "Epoch 42/100\n",
      "750/750 [==============================] - 0s 40us/sample - loss: 0.2569 - acc: 0.8907\n",
      "Epoch 43/100\n",
      "750/750 [==============================] - 0s 39us/sample - loss: 0.2555 - acc: 0.8920\n",
      "Epoch 44/100\n",
      "750/750 [==============================] - 0s 32us/sample - loss: 0.2542 - acc: 0.8933\n",
      "Epoch 45/100\n",
      "750/750 [==============================] - 0s 31us/sample - loss: 0.2531 - acc: 0.8933\n",
      "Epoch 46/100\n",
      "750/750 [==============================] - 0s 33us/sample - loss: 0.2519 - acc: 0.8920\n",
      "Epoch 47/100\n",
      "750/750 [==============================] - 0s 32us/sample - loss: 0.2509 - acc: 0.8920\n",
      "Epoch 48/100\n",
      "750/750 [==============================] - 0s 33us/sample - loss: 0.2498 - acc: 0.8947\n",
      "Epoch 49/100\n",
      "750/750 [==============================] - 0s 37us/sample - loss: 0.2488 - acc: 0.8947\n",
      "Epoch 50/100\n",
      "750/750 [==============================] - 0s 43us/sample - loss: 0.2478 - acc: 0.8947\n",
      "Epoch 51/100\n",
      "750/750 [==============================] - 0s 28us/sample - loss: 0.2469 - acc: 0.8947\n",
      "Epoch 52/100\n",
      "750/750 [==============================] - 0s 37us/sample - loss: 0.2460 - acc: 0.8960\n",
      "Epoch 53/100\n",
      "750/750 [==============================] - 0s 37us/sample - loss: 0.2452 - acc: 0.8960\n",
      "Epoch 54/100\n",
      "750/750 [==============================] - 0s 28us/sample - loss: 0.2444 - acc: 0.8987\n",
      "Epoch 55/100\n",
      "750/750 [==============================] - 0s 39us/sample - loss: 0.2435 - acc: 0.8987\n",
      "Epoch 56/100\n",
      "750/750 [==============================] - 0s 28us/sample - loss: 0.2426 - acc: 0.9000\n",
      "Epoch 57/100\n",
      "750/750 [==============================] - 0s 28us/sample - loss: 0.2418 - acc: 0.9000\n",
      "Epoch 58/100\n",
      "750/750 [==============================] - 0s 32us/sample - loss: 0.2410 - acc: 0.9000\n",
      "Epoch 59/100\n",
      "750/750 [==============================] - 0s 29us/sample - loss: 0.2402 - acc: 0.9000\n",
      "Epoch 60/100\n",
      "750/750 [==============================] - 0s 31us/sample - loss: 0.2394 - acc: 0.9000\n",
      "Epoch 61/100\n",
      "750/750 [==============================] - 0s 36us/sample - loss: 0.2386 - acc: 0.9000\n",
      "Epoch 62/100\n",
      "750/750 [==============================] - 0s 36us/sample - loss: 0.2378 - acc: 0.9000\n",
      "Epoch 63/100\n",
      "750/750 [==============================] - 0s 31us/sample - loss: 0.2370 - acc: 0.9013\n",
      "Epoch 64/100\n",
      "750/750 [==============================] - 0s 31us/sample - loss: 0.2363 - acc: 0.9027\n",
      "Epoch 65/100\n",
      "750/750 [==============================] - 0s 32us/sample - loss: 0.2355 - acc: 0.9027\n",
      "Epoch 66/100\n",
      "750/750 [==============================] - 0s 40us/sample - loss: 0.2347 - acc: 0.9040\n",
      "Epoch 67/100\n",
      "750/750 [==============================] - 0s 36us/sample - loss: 0.2339 - acc: 0.9040\n",
      "Epoch 68/100\n",
      "750/750 [==============================] - 0s 41us/sample - loss: 0.2332 - acc: 0.9040\n",
      "Epoch 69/100\n",
      "750/750 [==============================] - 0s 39us/sample - loss: 0.2324 - acc: 0.9040\n",
      "Epoch 70/100\n",
      "750/750 [==============================] - 0s 33us/sample - loss: 0.2316 - acc: 0.9040\n",
      "Epoch 71/100\n",
      "750/750 [==============================] - 0s 35us/sample - loss: 0.2308 - acc: 0.9040\n",
      "Epoch 72/100\n",
      "750/750 [==============================] - 0s 37us/sample - loss: 0.2299 - acc: 0.9040\n",
      "Epoch 73/100\n",
      "750/750 [==============================] - 0s 37us/sample - loss: 0.2291 - acc: 0.9053\n",
      "Epoch 74/100\n",
      "750/750 [==============================] - 0s 29us/sample - loss: 0.2283 - acc: 0.9067\n",
      "Epoch 75/100\n",
      "750/750 [==============================] - 0s 28us/sample - loss: 0.2275 - acc: 0.9067\n",
      "Epoch 76/100\n",
      "750/750 [==============================] - 0s 33us/sample - loss: 0.2266 - acc: 0.9067\n",
      "Epoch 77/100\n",
      "750/750 [==============================] - 0s 29us/sample - loss: 0.2256 - acc: 0.9067\n",
      "Epoch 78/100\n",
      "750/750 [==============================] - 0s 32us/sample - loss: 0.2248 - acc: 0.9067\n",
      "Epoch 79/100\n",
      "750/750 [==============================] - 0s 31us/sample - loss: 0.2239 - acc: 0.9067\n",
      "Epoch 80/100\n",
      "750/750 [==============================] - 0s 32us/sample - loss: 0.2230 - acc: 0.9080\n",
      "Epoch 81/100\n",
      "750/750 [==============================] - 0s 29us/sample - loss: 0.2219 - acc: 0.9080\n",
      "Epoch 82/100\n",
      "750/750 [==============================] - 0s 33us/sample - loss: 0.2210 - acc: 0.9093\n",
      "Epoch 83/100\n"
     ]
    },
    {
     "name": "stdout",
     "output_type": "stream",
     "text": [
      "750/750 [==============================] - 0s 31us/sample - loss: 0.2201 - acc: 0.9107\n",
      "Epoch 84/100\n",
      "750/750 [==============================] - 0s 33us/sample - loss: 0.2191 - acc: 0.9120\n",
      "Epoch 85/100\n",
      "750/750 [==============================] - 0s 35us/sample - loss: 0.2182 - acc: 0.9133\n",
      "Epoch 86/100\n",
      "750/750 [==============================] - 0s 29us/sample - loss: 0.2173 - acc: 0.9147\n",
      "Epoch 87/100\n",
      "750/750 [==============================] - 0s 29us/sample - loss: 0.2162 - acc: 0.9160\n",
      "Epoch 88/100\n",
      "750/750 [==============================] - 0s 28us/sample - loss: 0.2153 - acc: 0.9160\n",
      "Epoch 89/100\n",
      "750/750 [==============================] - 0s 33us/sample - loss: 0.2142 - acc: 0.9160\n",
      "Epoch 90/100\n",
      "750/750 [==============================] - 0s 28us/sample - loss: 0.2132 - acc: 0.9160\n",
      "Epoch 91/100\n",
      "750/750 [==============================] - 0s 33us/sample - loss: 0.2122 - acc: 0.9160\n",
      "Epoch 92/100\n",
      "750/750 [==============================] - 0s 34us/sample - loss: 0.2113 - acc: 0.9173\n",
      "Epoch 93/100\n",
      "750/750 [==============================] - 0s 42us/sample - loss: 0.2101 - acc: 0.9173\n",
      "Epoch 94/100\n",
      "750/750 [==============================] - 0s 39us/sample - loss: 0.2089 - acc: 0.9173\n",
      "Epoch 95/100\n",
      "750/750 [==============================] - 0s 35us/sample - loss: 0.2079 - acc: 0.9173\n",
      "Epoch 96/100\n",
      "750/750 [==============================] - 0s 37us/sample - loss: 0.2066 - acc: 0.9187\n",
      "Epoch 97/100\n",
      "750/750 [==============================] - 0s 27us/sample - loss: 0.2054 - acc: 0.9200\n",
      "Epoch 98/100\n",
      "750/750 [==============================] - 0s 32us/sample - loss: 0.2042 - acc: 0.9200\n",
      "Epoch 99/100\n",
      "750/750 [==============================] - 0s 29us/sample - loss: 0.2030 - acc: 0.9200\n",
      "Epoch 100/100\n",
      "750/750 [==============================] - ETA: 0s - loss: 0.1024 - acc: 1.000 - 0s 32us/sample - loss: 0.2018 - acc: 0.9200\n"
     ]
    }
   ],
   "source": [
    "# Compile the Sequential model together and customize metrics\n",
    "new_model.compile(loss=\"binary_crossentropy\", optimizer=\"adam\", metrics=[\"accuracy\"])\n",
    "\n",
    "# Fit the model to the training data\n",
    "new_fit_model = new_model.fit(X_moon_train_scaled, y_moon_train, epochs=100, shuffle=True)"
   ]
  },
  {
   "cell_type": "code",
   "execution_count": null,
   "metadata": {},
   "outputs": [],
   "source": []
  }
 ],
 "metadata": {
  "kernelspec": {
   "display_name": "PythonData",
   "language": "python",
   "name": "pythondata"
  },
  "language_info": {
   "codemirror_mode": {
    "name": "ipython",
    "version": 3
   },
   "file_extension": ".py",
   "mimetype": "text/x-python",
   "name": "python",
   "nbconvert_exporter": "python",
   "pygments_lexer": "ipython3",
   "version": "3.7.7"
  }
 },
 "nbformat": 4,
 "nbformat_minor": 4
}
